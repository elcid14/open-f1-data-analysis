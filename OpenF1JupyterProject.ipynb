{
 "cells": [
  {
   "cell_type": "code",
   "execution_count": 8,
   "id": "9d7ddd9e",
   "metadata": {
    "scrolled": true
   },
   "outputs": [
    {
     "name": "stdout",
     "output_type": "stream",
     "text": [
      "    session_key  meeting_key broadcast_name country_code first_name  \\\n",
      "0          9567         1242   M VERSTAPPEN          NED        Max   \n",
      "1          9567         1242     L SARGEANT          USA      Logan   \n",
      "2          9567         1242    D RICCIARDO          AUS     Daniel   \n",
      "3          9567         1242       L NORRIS          GBR      Lando   \n",
      "4          9567         1242        P GASLY          FRA     Pierre   \n",
      "..          ...          ...            ...          ...        ...   \n",
      "95         9574         1242     L HAMILTON          GBR      Lewis   \n",
      "96         9574         1242        C SAINZ          ESP     Carlos   \n",
      "97         9574         1242      G RUSSELL          GBR     George   \n",
      "98         9574         1242       V BOTTAS          FIN   Valtteri   \n",
      "99         9574         1242      O PIASTRI          AUS      Oscar   \n",
      "\n",
      "           full_name                                       headshot_url  \\\n",
      "0     Max VERSTAPPEN  https://media.formula1.com/d_driver_fallback_i...   \n",
      "1     Logan SARGEANT  https://media.formula1.com/d_driver_fallback_i...   \n",
      "2   Daniel RICCIARDO  https://media.formula1.com/d_driver_fallback_i...   \n",
      "3       Lando NORRIS  https://media.formula1.com/d_driver_fallback_i...   \n",
      "4       Pierre GASLY  https://media.formula1.com/d_driver_fallback_i...   \n",
      "..               ...                                                ...   \n",
      "95    Lewis HAMILTON  https://media.formula1.com/d_driver_fallback_i...   \n",
      "96      Carlos SAINZ  https://media.formula1.com/d_driver_fallback_i...   \n",
      "97    George RUSSELL  https://media.formula1.com/d_driver_fallback_i...   \n",
      "98   Valtteri BOTTAS  https://media.formula1.com/d_driver_fallback_i...   \n",
      "99     Oscar PIASTRI  https://media.formula1.com/d_driver_fallback_i...   \n",
      "\n",
      "     last_name  driver_number team_colour        team_name name_acronym  \n",
      "0   Verstappen              1      3671C6  Red Bull Racing          VER  \n",
      "1     Sargeant              2      64C4FF         Williams          SAR  \n",
      "2    Ricciardo              3      6692FF               RB          RIC  \n",
      "3       Norris              4      FF8000          McLaren          NOR  \n",
      "4        Gasly             10      0093cc           Alpine          GAS  \n",
      "..         ...            ...         ...              ...          ...  \n",
      "95    Hamilton             44      27F4D2         Mercedes          HAM  \n",
      "96       Sainz             55      E80020          Ferrari          SAI  \n",
      "97     Russell             63      27F4D2         Mercedes          RUS  \n",
      "98      Bottas             77      52E252      Kick Sauber          BOT  \n",
      "99     Piastri             81      FF8000          McLaren          PIA  \n",
      "\n",
      "[100 rows x 12 columns]\n"
     ]
    }
   ],
   "source": [
    "from urllib.request import urlopen\n",
    "from io import StringIO\n",
    "import json\n",
    "import numpy as np\n",
    "import pandas as pd\n",
    "import aiohttp\n",
    "\n",
    "# Get the drivers to start formatting data properly for later transformations\n",
    "response = urlopen('https://api.openf1.org/v1/drivers?meeting_key=latest')\n",
    "data = json.loads(response.read())\n",
    "\n",
    "\n",
    "driverDf = pd.DataFrame(data)\n",
    "print(driverDf)\n"
   ]
  },
  {
   "cell_type": "code",
   "execution_count": 11,
   "id": "1b74ad48",
   "metadata": {
    "scrolled": false
   },
   "outputs": [
    {
     "name": "stdout",
     "output_type": "stream",
     "text": [
      "           full_name        team_name  driver_number name_acronym\n",
      "0     Max VERSTAPPEN  Red Bull Racing              1          VER\n",
      "1     Logan SARGEANT         Williams              2          SAR\n",
      "2   Daniel RICCIARDO               RB              3          RIC\n",
      "3       Lando NORRIS          McLaren              4          NOR\n",
      "4       Pierre GASLY           Alpine             10          GAS\n",
      "5       Sergio PEREZ  Red Bull Racing             11          PER\n",
      "6    Fernando ALONSO     Aston Martin             14          ALO\n",
      "7    Charles LECLERC          Ferrari             16          LEC\n",
      "8       Lance STROLL     Aston Martin             18          STR\n",
      "9    Kevin MAGNUSSEN     Haas F1 Team             20          MAG\n",
      "10      Yuki TSUNODA               RB             22          TSU\n",
      "11   Alexander ALBON         Williams             23          ALB\n",
      "12       ZHOU Guanyu      Kick Sauber             24          ZHO\n",
      "13   Nico HULKENBERG     Haas F1 Team             27          HUL\n",
      "14      Esteban OCON           Alpine             31          OCO\n",
      "15    Lewis HAMILTON         Mercedes             44          HAM\n",
      "16      Carlos SAINZ          Ferrari             55          SAI\n",
      "17    George RUSSELL         Mercedes             63          RUS\n",
      "18   Valtteri BOTTAS      Kick Sauber             77          BOT\n",
      "19     Oscar PIASTRI          McLaren             81          PIA\n"
     ]
    }
   ],
   "source": [
    "# So we created the data frame succesfully but there is an issue\n",
    "# The data is not readable, there is duplicate keys for meeting_id and session_key\n",
    "# Drop the duplicate data, and add the necessary columns we need such as first_name, last_name, etc. \n",
    "\n",
    "driverDf_deduped = driverDf.drop_duplicates(subset='driver_number')\n",
    "\n",
    "req_columns = ['driver_number','full_name', 'team_name', 'name_acronym']\n",
    "\n",
    "driverDf = driverDf_deduped[req_columns]\n",
    "\n",
    "print(driverDf)"
   ]
  },
  {
   "cell_type": "code",
   "execution_count": 14,
   "id": "fe8abfbd",
   "metadata": {},
   "outputs": [
    {
     "name": "stdout",
     "output_type": "stream",
     "text": [
      "    session_key           location\n",
      "0          9465             Sakhir\n",
      "1          9466             Sakhir\n",
      "2          9467             Sakhir\n",
      "3          9468             Sakhir\n",
      "4          9472             Sakhir\n",
      "..          ...                ...\n",
      "65         9567  Spa-Francorchamps\n",
      "66         9568  Spa-Francorchamps\n",
      "67         9569  Spa-Francorchamps\n",
      "68         9570  Spa-Francorchamps\n",
      "69         9574  Spa-Francorchamps\n",
      "\n",
      "[70 rows x 2 columns]\n"
     ]
    }
   ],
   "source": [
    "# Now that we ahve our driver df we can start to make data insisghts with different api calls.\n",
    "# The first insight we want to gather is the number of laps where the driver was recorded over 300 kmh\n",
    "# This is looking at the course speed trap, which is generally the fastest section of a track, not the average speed of a lap\n",
    "# For this we will combine two data frames. The first one we created and a new one that will have the driver number and various speed columns\n",
    "# After processing the second data frame we will combine the two where only the speed is above 300 kmh and if a driver has not reached that speed we will default to 0\n",
    "\n",
    "\n",
    "# The df before merging will look like [\"row\", \"driver_number\", \"number_laps_greater_than_300\",]\n",
    "# We will then merge the two on driver_number in the first df, adding the additonal column number_laps_greater_than_300\n",
    "\n",
    "\n",
    "# Cince there is so much lap data per driver per season we need to make an async task to iterate through each param value\n",
    "# We need to gather each session_key and each driver number, and create a params_list that has a tuple of each\n",
    "# Example params_list = set(('driver_numner':'1','session_key':'1'),('driver_numner':'2','session_key':'2') )\n",
    "# we will use asyncio and aiohttp to gather all the data, then store it in json and create the dataframe\n",
    "\n",
    "\n",
    "\n",
    "# now that we have \n",
    "\n"
   ]
  },
  {
   "cell_type": "code",
   "execution_count": null,
   "id": "e7bdfedb",
   "metadata": {},
   "outputs": [],
   "source": []
  }
 ],
 "metadata": {
  "kernelspec": {
   "display_name": "Python 3 (ipykernel)",
   "language": "python",
   "name": "python3"
  },
  "language_info": {
   "codemirror_mode": {
    "name": "ipython",
    "version": 3
   },
   "file_extension": ".py",
   "mimetype": "text/x-python",
   "name": "python",
   "nbconvert_exporter": "python",
   "pygments_lexer": "ipython3",
   "version": "3.10.12"
  }
 },
 "nbformat": 4,
 "nbformat_minor": 5
}
